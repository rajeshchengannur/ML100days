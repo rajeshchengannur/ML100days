{
  "nbformat": 4,
  "nbformat_minor": 0,
  "metadata": {
    "colab": {
      "provenance": [],
      "authorship_tag": "ABX9TyMHUpaQZvM2Yv41CGa9urex",
      "include_colab_link": true
    },
    "kernelspec": {
      "name": "python3",
      "display_name": "Python 3"
    },
    "language_info": {
      "name": "python"
    }
  },
  "cells": [
    {
      "cell_type": "markdown",
      "metadata": {
        "id": "view-in-github",
        "colab_type": "text"
      },
      "source": [
        "<a href=\"https://colab.research.google.com/github/rajeshchengannur/ML100days/blob/main/2_2_FeatureScaling.ipynb\" target=\"_parent\"><img src=\"https://colab.research.google.com/assets/colab-badge.svg\" alt=\"Open In Colab\"/></a>"
      ]
    },
    {
      "cell_type": "markdown",
      "source": [
        "Feature scaling is a technique to standardize the independant features present in the data in a fixed range\n"
      ],
      "metadata": {
        "id": "D-plHkNZcPF_"
      }
    },
    {
      "cell_type": "markdown",
      "source": [
        "Types are \n",
        "Standardizaion (Z-score normalization)\n",
        "Normalization"
      ],
      "metadata": {
        "id": "d0qzAVbUmfx-"
      }
    },
    {
      "cell_type": "code",
      "execution_count": 1,
      "metadata": {
        "id": "A6O_PFdVbNKC"
      },
      "outputs": [],
      "source": [
        "#stanardization is X - Mean(X)/sigma(SD)"
      ]
    },
    {
      "cell_type": "code",
      "source": [],
      "metadata": {
        "id": "ZQjFU3pkna_t"
      },
      "execution_count": null,
      "outputs": []
    }
  ]
}